{
 "cells": [
  {
   "cell_type": "markdown",
   "id": "36b05cc0-dc3f-4afd-ac98-a979f6ac888d",
   "metadata": {},
   "source": [
    "# STEP 1: Set up your reproducible workflow\n",
    "\n",
    "### Import Python libraries\n",
    "\n",
    "<link rel=\"stylesheet\" type=\"text/css\" href=\"./assets/styles.css\"><div class=\"callout callout-style-default callout-titled callout-task\"><div class=\"callout-header\"><div class=\"callout-icon-container\"><i class=\"callout-icon\"></i></div><div class=\"callout-title-container flex-fill\">Try It: Import packages</div></div><div class=\"callout-body-container callout-body\"><p>In the imports cell, we’ve included a number of packages that you\n",
    "will need. Add imports for packages that will help you:</p>\n",
    "<ol type=\"1\">\n",
    "<li>Work with tabular data</li>\n",
    "<li>Work with geospatial vector data</li>\n",
    "</ol></div></div>"
   ]
  },
  {
   "cell_type": "code",
   "execution_count": 1,
   "id": "aff9d628",
   "metadata": {
    "highlight": true
   },
   "outputs": [],
   "source": [
    "import os\n",
    "import pathlib\n",
    "\n",
    "import geopandas as gpd\n",
    "import pandas as pd"
   ]
  },
  {
   "cell_type": "markdown",
   "id": "6ca26e89-03ea-4ffd-ac2d-ea8b34307855",
   "metadata": {},
   "source": [
    "### Create a folder for your data\n",
    "\n",
    "For this challenge, you will need to save some data to the computer\n",
    "you’re working on. We suggest saving to somewhere in your *home* folder\n",
    "(e.g. `/home/username`), rather than to your GitHub repository, since\n",
    "data files can easily become too large for GitHub.\n",
    "\n",
    "> **Warning**\n",
    ">\n",
    "> The **home** directory is different for every user! Your home\n",
    "> directory probably won’t exist on someone else’s computer. Make sure\n",
    "> to use code like `pathlib.Path.home()` to compute the home directory\n",
    "> on the computer the code is running on. This is key to writing\n",
    "> reproducible and interoperable code.\n",
    "\n",
    "<link rel=\"stylesheet\" type=\"text/css\" href=\"./assets/styles.css\"><div class=\"callout callout-style-default callout-titled callout-task\"><div class=\"callout-header\"><div class=\"callout-icon-container\"><i class=\"callout-icon\"></i></div><div class=\"callout-title-container flex-fill\">Try It: Create a project folder</div></div><div class=\"callout-body-container callout-body\"><p>The code below will help you get started with making a project\n",
    "directory</p>\n",
    "<ol type=\"1\">\n",
    "<li>Replace <code>'your-project-directory-name-here'</code> and\n",
    "<code>'your-gbif-data-directory-name-here'</code> with\n",
    "<strong>descriptive</strong> names</li>\n",
    "<li>Run the cell</li>\n",
    "<li>(OPTIONAL) Check in the terminal that you created the directory\n",
    "using the command <code>ls ~/earth-analytics/data</code></li>\n",
    "</ol></div></div>"
   ]
  },
  {
   "cell_type": "code",
   "execution_count": 2,
   "id": "32d6451c",
   "metadata": {
    "highlight": true
   },
   "outputs": [
    {
     "data": {
      "text/plain": [
       "'/home/jovyan/earth-analytics/data/species-project'"
      ]
     },
     "execution_count": 2,
     "metadata": {},
     "output_type": "execute_result"
    }
   ],
   "source": [
    "# Create data directory in the home folder\n",
    "data_dir = os.path.join(\n",
    "    # Home directory\n",
    "    pathlib.Path.home(),\n",
    "    # Earth analytics data directory\n",
    "    'earth-analytics',\n",
    "    'data',\n",
    "    # Project directory\n",
    "    'species-project',\n",
    ")\n",
    "os.makedirs(data_dir, exist_ok=True)\n",
    "data_dir\n"
   ]
  },
  {
   "cell_type": "markdown",
   "id": "90d9597f-0425-4f72-a197-575e99589901",
   "metadata": {},
   "source": [
    "## STEP 2: Define your study area – the ecoregions of North America\n",
    "\n",
    "Track observations of Taciyagnunpa across different **ecoregions**! You\n",
    "should be able to see changes in the number of observations in each\n",
    "ecoregion throughout the year.\n",
    "\n",
    "<link rel=\"stylesheet\" type=\"text/css\" href=\"./assets/styles.css\"><div class=\"callout callout-style-default callout-titled callout-read\"><div class=\"callout-header\"><div class=\"callout-icon-container\"><i class=\"callout-icon\"></i></div><div class=\"callout-title-container flex-fill\">Read More</div></div><div class=\"callout-body-container callout-body\"><p>The ecoregion data will be available as a <strong>shapefile</strong>.\n",
    "Learn more about shapefiles and vector data in this <a\n",
    "href=\"https://www.earthdatascience.org/courses/intro-to-earth-data-science/file-formats/use-spatial-data/use-vector-data/\">Introduction\n",
    "to Spatial Vector Data File Formats in Open Source Python</a></p></div></div>\n",
    "\n",
    "### Download and save ecoregion boundaries\n",
    "\n",
    "The ecoregion boundaries take some time to download – they come in at\n",
    "about 150MB. To use your time most efficiently, we recommend **caching**\n",
    "the ecoregions data on the machine you’re working on so that you only\n",
    "have to download once. To do that, we’ll also introduce the concept of\n",
    "**conditionals**, or code that adjusts what it does based on the\n",
    "situation.\n",
    "\n",
    "<link rel=\"stylesheet\" type=\"text/css\" href=\"./assets/styles.css\"><div class=\"callout callout-style-default callout-titled callout-read\"><div class=\"callout-header\"><div class=\"callout-icon-container\"><i class=\"callout-icon\"></i></div><div class=\"callout-title-container flex-fill\">Read More</div></div><div class=\"callout-body-container callout-body\"><p>Read more about conditionals in this <a\n",
    "href=\"https://www.earthdatascience.org/courses/intro-to-earth-data-science/write-efficient-python-code/conditional-statements/\">Intro\n",
    "Conditional Statements in Python</a></p></div></div>\n",
    "\n",
    "<link rel=\"stylesheet\" type=\"text/css\" href=\"./assets/styles.css\"><div class=\"callout callout-style-default callout-titled callout-task\"><div class=\"callout-header\"><div class=\"callout-icon-container\"><i class=\"callout-icon\"></i></div><div class=\"callout-title-container flex-fill\">Try It: Get ecoregions boundaries</div></div><div class=\"callout-body-container callout-body\"><ol type=\"1\">\n",
    "<li>Find the URL for for the ecoregion boundary\n",
    "<strong>Shapefile</strong>. You can <a\n",
    "href=\"https://www.geographyrealm.com/terrestrial-ecoregions-gis-data/\">get\n",
    "ecoregion boundaries from Google.</a>.</li>\n",
    "<li>Replace <code>your/url/here</code> with the URL you found, making\n",
    "sure to format it so it is easily readable. Also, replace\n",
    "<code>ecoregions_dirname</code> and <code>ecoregions_filename</code>\n",
    "with descriptive and machine-readable names for your project’s file\n",
    "structure.</li>\n",
    "<li>Change all the variable names to <strong>descriptive</strong>\n",
    "variable names, making sure to correctly reference variables you created\n",
    "before.</li>\n",
    "<li>Run the cell to download and save the data.</li>\n",
    "</ol></div></div>"
   ]
  },
  {
   "cell_type": "markdown",
   "id": "5c1c33fb",
   "metadata": {},
   "source": [
    "I've managed to make three ecoregion directories \n",
    "Now, how to remove two of them"
   ]
  },
  {
   "cell_type": "code",
   "execution_count": 3,
   "id": "3e0deb7f",
   "metadata": {},
   "outputs": [],
   "source": [
    "# Set up the ecoregion boundary URL\n",
    "ecoregions_url = (\n",
    "    \"https://storage.googleapis.com/teow2016/Ecoregions2017.zip\")\n",
    "\n",
    "# Set up a path to save the data on your machine\n",
    "ecoregions_dir = os.path.join(data_dir, 'ecoregions')\n",
    "# Make ecoregions directory\n",
    "os.makedirs(ecoregions_dir, exist_ok=True)\n",
    "\n",
    "# Join ecoregion shapefile path\n",
    "ecoregions_path = os.path.join(ecoregions_dir, 'ecoregions.shp')\n",
    "\n",
    "# Only download once\n",
    "if not os.path.exists(ecoregions_path):\n",
    "    my_gdf = gpd.read_file(ecoregions_url)\n",
    "    my_gdf.to_file(ecoregions_path)"
   ]
  },
  {
   "cell_type": "markdown",
   "id": "2cea27c1-57af-4ce5-b162-ec2919dda379",
   "metadata": {},
   "source": [
    "Let’s check that that worked! To do so we’ll use a **bash** command\n",
    "called `find` to look for all the files in your project directory with\n",
    "the `.shp` extension:"
   ]
  },
  {
   "cell_type": "code",
   "execution_count": 4,
   "id": "3929e977",
   "metadata": {},
   "outputs": [
    {
     "name": "stdout",
     "output_type": "stream",
     "text": [
      "/home/jovyan/earth-analytics/data/species-project/ecoregions/ecoregions.shp\n"
     ]
    }
   ],
   "source": [
    "%%bash\n",
    "find ~/earth-analytics/data/species-project/ecoregions -name '*.shp' "
   ]
  },
  {
   "cell_type": "markdown",
   "id": "71af076a-af9e-44ac-858c-88ff1cbb996b",
   "metadata": {},
   "source": [
    "> **Tip**\n",
    ">\n",
    "> You can also run bash commands in the terminal!\n",
    "\n",
    "<link rel=\"stylesheet\" type=\"text/css\" href=\"./assets/styles.css\"><div class=\"callout callout-style-default callout-titled callout-read\"><div class=\"callout-header\"><div class=\"callout-icon-container\"><i class=\"callout-icon\"></i></div><div class=\"callout-title-container flex-fill\">Read More</div></div><div class=\"callout-body-container callout-body\"><p>Learn more about bash in this <a\n",
    "href=\"https://www.earthdatascience.org/courses/intro-to-earth-data-science/open-reproducible-science/bash/\">Introduction\n",
    "to Bash</a></p></div></div>\n",
    "\n",
    "### Load the ecoregions into Python\n",
    "\n",
    "<link rel=\"stylesheet\" type=\"text/css\" href=\"./assets/styles.css\"><div class=\"callout callout-style-default callout-titled callout-task\"><div class=\"callout-header\"><div class=\"callout-icon-container\"><i class=\"callout-icon\"></i></div><div class=\"callout-title-container flex-fill\">Try It: Load ecoregions into Python</div></div><div class=\"callout-body-container callout-body\"><p>Download and save ecoregion boundaries from the EPA:</p>\n",
    "<ol type=\"1\">\n",
    "<li>Replace <code>a_path</code> with the path your created for your\n",
    "ecoregions file.</li>\n",
    "<li>(optional) Consider renaming and selecting columns to make your\n",
    "<code>GeoDataFrame</code> easier to work with. Many of the same methods\n",
    "you learned for <code>pandas</code> <code>DataFrame</code>s are the same\n",
    "for <code>GeoDataFrame</code>s!</li>\n",
    "<li>Make a quick plot with <code>.plot()</code> to make sure the\n",
    "download worked.</li>\n",
    "<li>Run the cell to load the data into Python</li>\n",
    "</ol></div></div>"
   ]
  },
  {
   "cell_type": "code",
   "execution_count": 1,
   "id": "1b959634",
   "metadata": {},
   "outputs": [
    {
     "ename": "NameError",
     "evalue": "name 'gpd' is not defined",
     "output_type": "error",
     "traceback": [
      "\u001b[0;31m---------------------------------------------------------------------------\u001b[0m",
      "\u001b[0;31mNameError\u001b[0m                                 Traceback (most recent call last)",
      "Cell \u001b[0;32mIn[1], line 3\u001b[0m\n\u001b[1;32m      1\u001b[0m \u001b[38;5;66;03m# Open up the ecoregions boundaries\u001b[39;00m\n\u001b[1;32m      2\u001b[0m region_gdf \u001b[38;5;241m=\u001b[39m (\n\u001b[0;32m----> 3\u001b[0m     \u001b[43mgpd\u001b[49m\u001b[38;5;241m.\u001b[39mread_file(regions_path)\n\u001b[1;32m      4\u001b[0m     [[\u001b[38;5;124m'\u001b[39m\u001b[38;5;124mOBJECTID\u001b[39m\u001b[38;5;124m'\u001b[39m, \u001b[38;5;124m'\u001b[39m\u001b[38;5;124mECO_NAME\u001b[39m\u001b[38;5;124m'\u001b[39m, \u001b[38;5;124m'\u001b[39m\u001b[38;5;124mSHAPE_AREA\u001b[39m\u001b[38;5;124m'\u001b[39m, \u001b[38;5;124m'\u001b[39m\u001b[38;5;124mgeometry\u001b[39m\u001b[38;5;124m'\u001b[39m]]\n\u001b[1;32m      5\u001b[0m     \u001b[38;5;241m.\u001b[39mrename(columns\u001b[38;5;241m=\u001b[39m{\n\u001b[1;32m      6\u001b[0m         \u001b[38;5;124m'\u001b[39m\u001b[38;5;124mOBJECTID\u001b[39m\u001b[38;5;124m'\u001b[39m: \u001b[38;5;124m'\u001b[39m\u001b[38;5;124mecoregion_id\u001b[39m\u001b[38;5;124m'\u001b[39m,\n\u001b[1;32m      7\u001b[0m         \u001b[38;5;124m'\u001b[39m\u001b[38;5;124mECO_NAME\u001b[39m\u001b[38;5;124m'\u001b[39m: \u001b[38;5;124m'\u001b[39m\u001b[38;5;124mname\u001b[39m\u001b[38;5;124m'\u001b[39m,\n\u001b[1;32m      8\u001b[0m         \u001b[38;5;124m'\u001b[39m\u001b[38;5;124mSHAPE_AREA\u001b[39m\u001b[38;5;124m'\u001b[39m:\u001b[38;5;124m'\u001b[39m\u001b[38;5;124marea\u001b[39m\u001b[38;5;124m'\u001b[39m,\n\u001b[1;32m      9\u001b[0m     })\n\u001b[1;32m     10\u001b[0m     \u001b[38;5;241m.\u001b[39mset_index(\u001b[38;5;124m'\u001b[39m\u001b[38;5;124mecoregion_id\u001b[39m\u001b[38;5;124m'\u001b[39m)\n\u001b[1;32m     11\u001b[0m )\n\u001b[1;32m     13\u001b[0m \u001b[38;5;66;03m# plot the ecoregions to check download\u001b[39;00m\n\u001b[1;32m     14\u001b[0m region_gdf\u001b[38;5;241m.\u001b[39mplot()\n",
      "\u001b[0;31mNameError\u001b[0m: name 'gpd' is not defined"
     ]
    }
   ],
   "source": [
    "# Open up the ecoregions boundaries\n",
    "region_gdf = (\n",
    "    gpd.read_file(regions_path)\n",
    "    [['OBJECTID', 'ECO_NAME', 'SHAPE_AREA', 'geometry']]\n",
    "    .rename(columns={\n",
    "        'OBJECTID': 'ecoregion_id',\n",
    "        'ECO_NAME': 'name',\n",
    "        'SHAPE_AREA':'area',\n",
    "    })\n",
    "    .set_index('ecoregion_id')\n",
    ")\n",
    "\n",
    "# plot the ecoregions to check download\n",
    "region_gdf.plot()"
   ]
  },
  {
   "cell_type": "code",
   "execution_count": 6,
   "id": "417e6573",
   "metadata": {},
   "outputs": [
    {
     "data": {
      "text/html": [
       "<div>\n",
       "<style scoped>\n",
       "    .dataframe tbody tr th:only-of-type {\n",
       "        vertical-align: middle;\n",
       "    }\n",
       "\n",
       "    .dataframe tbody tr th {\n",
       "        vertical-align: top;\n",
       "    }\n",
       "\n",
       "    .dataframe thead th {\n",
       "        text-align: right;\n",
       "    }\n",
       "</style>\n",
       "<table border=\"1\" class=\"dataframe\">\n",
       "  <thead>\n",
       "    <tr style=\"text-align: right;\">\n",
       "      <th></th>\n",
       "      <th>name</th>\n",
       "      <th>area</th>\n",
       "      <th>geometry</th>\n",
       "    </tr>\n",
       "    <tr>\n",
       "      <th>ecoregion_id</th>\n",
       "      <th></th>\n",
       "      <th></th>\n",
       "      <th></th>\n",
       "    </tr>\n",
       "  </thead>\n",
       "  <tbody>\n",
       "    <tr>\n",
       "      <th>1.0</th>\n",
       "      <td>Adelie Land tundra</td>\n",
       "      <td>0.038948</td>\n",
       "      <td>MULTIPOLYGON (((158.7141 -69.60657, 158.71264 ...</td>\n",
       "    </tr>\n",
       "    <tr>\n",
       "      <th>2.0</th>\n",
       "      <td>Admiralty Islands lowland rain forests</td>\n",
       "      <td>0.170599</td>\n",
       "      <td>MULTIPOLYGON (((147.28819 -2.57589, 147.2715 -...</td>\n",
       "    </tr>\n",
       "    <tr>\n",
       "      <th>3.0</th>\n",
       "      <td>Aegean and Western Turkey sclerophyllous and m...</td>\n",
       "      <td>13.844952</td>\n",
       "      <td>MULTIPOLYGON (((26.88659 35.32161, 26.88297 35...</td>\n",
       "    </tr>\n",
       "    <tr>\n",
       "      <th>4.0</th>\n",
       "      <td>Afghan Mountains semi-desert</td>\n",
       "      <td>1.355536</td>\n",
       "      <td>MULTIPOLYGON (((65.48655 34.71401, 65.52872 34...</td>\n",
       "    </tr>\n",
       "    <tr>\n",
       "      <th>5.0</th>\n",
       "      <td>Ahklun and Kilbuck Upland Tundra</td>\n",
       "      <td>8.196573</td>\n",
       "      <td>MULTIPOLYGON (((-160.26404 58.64097, -160.2673...</td>\n",
       "    </tr>\n",
       "  </tbody>\n",
       "</table>\n",
       "</div>"
      ],
      "text/plain": [
       "                                                           name       area  \\\n",
       "ecoregion_id                                                                 \n",
       "1.0                                          Adelie Land tundra   0.038948   \n",
       "2.0                      Admiralty Islands lowland rain forests   0.170599   \n",
       "3.0           Aegean and Western Turkey sclerophyllous and m...  13.844952   \n",
       "4.0                                Afghan Mountains semi-desert   1.355536   \n",
       "5.0                            Ahklun and Kilbuck Upland Tundra   8.196573   \n",
       "\n",
       "                                                       geometry  \n",
       "ecoregion_id                                                     \n",
       "1.0           MULTIPOLYGON (((158.7141 -69.60657, 158.71264 ...  \n",
       "2.0           MULTIPOLYGON (((147.28819 -2.57589, 147.2715 -...  \n",
       "3.0           MULTIPOLYGON (((26.88659 35.32161, 26.88297 35...  \n",
       "4.0           MULTIPOLYGON (((65.48655 34.71401, 65.52872 34...  \n",
       "5.0           MULTIPOLYGON (((-160.26404 58.64097, -160.2673...  "
      ]
     },
     "execution_count": 6,
     "metadata": {},
     "output_type": "execute_result"
    }
   ],
   "source": [
    "ecoregion_gdf.head()"
   ]
  },
  {
   "cell_type": "markdown",
   "id": "858b66c7-700a-463e-85d3-e33366db55b4",
   "metadata": {},
   "source": [
    "## STEP 3: Download species observation data\n",
    "\n",
    "For this challenge, you will use a database called the [Global\n",
    "Biodiversity Information Facility (GBIF)](https://www.gbif.org/). GBIF\n",
    "is compiled from species observation data all over the world, and\n",
    "includes everything from museum specimens to photos taken by citizen\n",
    "scientists in their backyards. We’ve compiled some sample data in the\n",
    "same format that you will get from GBIF.\n",
    "\n",
    "### Download sample data\n",
    "\n",
    "<link rel=\"stylesheet\" type=\"text/css\" href=\"./assets/styles.css\"><div class=\"callout callout-style-default callout-titled callout-task\"><div class=\"callout-header\"><div class=\"callout-icon-container\"><i class=\"callout-icon\"></i></div><div class=\"callout-title-container flex-fill\">Try It: Import GBIF Data</div></div><div class=\"callout-body-container callout-body\"><ol type=\"1\">\n",
    "<li>Define the <code>gbif_url</code>. You can get sample data from\n",
    "https://github.com/cu-esiil-edu/esiil-learning-portal/releases/download/data-release/species-distribution-foundations-data.zip</li>\n",
    "<li>Using the ecoregions code, modify the code cell below so that the\n",
    "download only runs once, as with the ecoregion data.</li>\n",
    "<li>Run the cell</li>\n",
    "</ol></div></div>"
   ]
  },
  {
   "cell_type": "code",
   "execution_count": 7,
   "id": "779c69dd",
   "metadata": {},
   "outputs": [
    {
     "data": {
      "text/html": [
       "<div>\n",
       "<style scoped>\n",
       "    .dataframe tbody tr th:only-of-type {\n",
       "        vertical-align: middle;\n",
       "    }\n",
       "\n",
       "    .dataframe tbody tr th {\n",
       "        vertical-align: top;\n",
       "    }\n",
       "\n",
       "    .dataframe thead th {\n",
       "        text-align: right;\n",
       "    }\n",
       "</style>\n",
       "<table border=\"1\" class=\"dataframe\">\n",
       "  <thead>\n",
       "    <tr style=\"text-align: right;\">\n",
       "      <th></th>\n",
       "      <th>decimalLatitude</th>\n",
       "      <th>decimalLongitude</th>\n",
       "      <th>month</th>\n",
       "    </tr>\n",
       "    <tr>\n",
       "      <th>gbifID</th>\n",
       "      <th></th>\n",
       "      <th></th>\n",
       "      <th></th>\n",
       "    </tr>\n",
       "  </thead>\n",
       "  <tbody>\n",
       "    <tr>\n",
       "      <th>4725400674</th>\n",
       "      <td>40.771550</td>\n",
       "      <td>-73.97248</td>\n",
       "      <td>9</td>\n",
       "    </tr>\n",
       "    <tr>\n",
       "      <th>4742743075</th>\n",
       "      <td>42.588123</td>\n",
       "      <td>-85.44625</td>\n",
       "      <td>5</td>\n",
       "    </tr>\n",
       "    <tr>\n",
       "      <th>4837921585</th>\n",
       "      <td>43.703064</td>\n",
       "      <td>-72.30729</td>\n",
       "      <td>5</td>\n",
       "    </tr>\n",
       "    <tr>\n",
       "      <th>4706255418</th>\n",
       "      <td>48.174270</td>\n",
       "      <td>-77.73126</td>\n",
       "      <td>7</td>\n",
       "    </tr>\n",
       "    <tr>\n",
       "      <th>4755072666</th>\n",
       "      <td>42.544277</td>\n",
       "      <td>-72.44836</td>\n",
       "      <td>5</td>\n",
       "    </tr>\n",
       "  </tbody>\n",
       "</table>\n",
       "</div>"
      ],
      "text/plain": [
       "            decimalLatitude  decimalLongitude  month\n",
       "gbifID                                              \n",
       "4725400674        40.771550         -73.97248      9\n",
       "4742743075        42.588123         -85.44625      5\n",
       "4837921585        43.703064         -72.30729      5\n",
       "4706255418        48.174270         -77.73126      7\n",
       "4755072666        42.544277         -72.44836      5"
      ]
     },
     "execution_count": 7,
     "metadata": {},
     "output_type": "execute_result"
    }
   ],
   "source": [
    "# Load the GBIF data\n",
    "gbif_url = (\n",
    "    \"https://github.com/cu-esiil-edu/esiil-learning-portal/releases\"\n",
    "    \"/download/data-release/species-distribution-foundations-data.zip\")\n",
    "gbif_df = pd.read_csv(\n",
    "    gbif_url, \n",
    "    delimiter='\\t',\n",
    "    index_col='gbifID',\n",
    "    usecols=['gbifID', 'decimalLatitude', 'decimalLongitude', 'month'])\n",
    "gbif_df.head()"
   ]
  },
  {
   "cell_type": "markdown",
   "id": "8bb45ad8-cc28-4259-a169-55192647712d",
   "metadata": {},
   "source": [
    "### Convert the GBIF data to a GeoDataFrame\n",
    "\n",
    "To plot the GBIF data, we need to convert it to a `GeoDataFrame` first.\n",
    "This will make some special geospatial operations from `geopandas`\n",
    "available, such as spatial joins and plotting.\n",
    "\n",
    "<link rel=\"stylesheet\" type=\"text/css\" href=\"./assets/styles.css\"><div class=\"callout callout-style-default callout-titled callout-task\"><div class=\"callout-header\"><div class=\"callout-icon-container\"><i class=\"callout-icon\"></i></div><div class=\"callout-title-container flex-fill\">Try It: Convert `DataFrame` to `GeoDataFrame`</div></div><div class=\"callout-body-container callout-body\"><ol type=\"1\">\n",
    "<li>Replace <code>your_dataframe</code> with the name of the\n",
    "<code>DataFrame</code> you just got from GBIF</li>\n",
    "<li>Replace <code>longitude_column_name</code> and\n",
    "<code>latitude_column_name</code> with column names from your\n",
    "`DataFrame</li>\n",
    "<li>Run the code to get a <code>GeoDataFrame</code> of the GBIF\n",
    "data.</li>\n",
    "</ol></div></div>"
   ]
  },
  {
   "cell_type": "code",
   "execution_count": 8,
   "id": "ac7c5db3",
   "metadata": {
    "highlight": true
   },
   "outputs": [
    {
     "data": {
      "text/html": [
       "<div>\n",
       "<style scoped>\n",
       "    .dataframe tbody tr th:only-of-type {\n",
       "        vertical-align: middle;\n",
       "    }\n",
       "\n",
       "    .dataframe tbody tr th {\n",
       "        vertical-align: top;\n",
       "    }\n",
       "\n",
       "    .dataframe thead th {\n",
       "        text-align: right;\n",
       "    }\n",
       "</style>\n",
       "<table border=\"1\" class=\"dataframe\">\n",
       "  <thead>\n",
       "    <tr style=\"text-align: right;\">\n",
       "      <th></th>\n",
       "      <th>month</th>\n",
       "      <th>geometry</th>\n",
       "    </tr>\n",
       "    <tr>\n",
       "      <th>gbifID</th>\n",
       "      <th></th>\n",
       "      <th></th>\n",
       "    </tr>\n",
       "  </thead>\n",
       "  <tbody>\n",
       "    <tr>\n",
       "      <th>4725400674</th>\n",
       "      <td>9</td>\n",
       "      <td>POINT (-73.97248 40.77155)</td>\n",
       "    </tr>\n",
       "    <tr>\n",
       "      <th>4742743075</th>\n",
       "      <td>5</td>\n",
       "      <td>POINT (-85.44625 42.58812)</td>\n",
       "    </tr>\n",
       "    <tr>\n",
       "      <th>4837921585</th>\n",
       "      <td>5</td>\n",
       "      <td>POINT (-72.30729 43.70306)</td>\n",
       "    </tr>\n",
       "    <tr>\n",
       "      <th>4706255418</th>\n",
       "      <td>7</td>\n",
       "      <td>POINT (-77.73126 48.17427)</td>\n",
       "    </tr>\n",
       "    <tr>\n",
       "      <th>4755072666</th>\n",
       "      <td>5</td>\n",
       "      <td>POINT (-72.44836 42.54428)</td>\n",
       "    </tr>\n",
       "    <tr>\n",
       "      <th>...</th>\n",
       "      <td>...</td>\n",
       "      <td>...</td>\n",
       "    </tr>\n",
       "    <tr>\n",
       "      <th>4841667942</th>\n",
       "      <td>5</td>\n",
       "      <td>POINT (-78.75946 45.0954)</td>\n",
       "    </tr>\n",
       "    <tr>\n",
       "      <th>4768698387</th>\n",
       "      <td>7</td>\n",
       "      <td>POINT (-88.02332 48.99255)</td>\n",
       "    </tr>\n",
       "    <tr>\n",
       "      <th>4414313551</th>\n",
       "      <td>5</td>\n",
       "      <td>POINT (-72.79677 43.46352)</td>\n",
       "    </tr>\n",
       "    <tr>\n",
       "      <th>4130116616</th>\n",
       "      <td>6</td>\n",
       "      <td>POINT (-81.32435 46.04416)</td>\n",
       "    </tr>\n",
       "    <tr>\n",
       "      <th>4936523155</th>\n",
       "      <td>5</td>\n",
       "      <td>POINT (-73.82481 40.61684)</td>\n",
       "    </tr>\n",
       "  </tbody>\n",
       "</table>\n",
       "<p>162775 rows × 2 columns</p>\n",
       "</div>"
      ],
      "text/plain": [
       "            month                    geometry\n",
       "gbifID                                       \n",
       "4725400674      9  POINT (-73.97248 40.77155)\n",
       "4742743075      5  POINT (-85.44625 42.58812)\n",
       "4837921585      5  POINT (-72.30729 43.70306)\n",
       "4706255418      7  POINT (-77.73126 48.17427)\n",
       "4755072666      5  POINT (-72.44836 42.54428)\n",
       "...           ...                         ...\n",
       "4841667942      5   POINT (-78.75946 45.0954)\n",
       "4768698387      7  POINT (-88.02332 48.99255)\n",
       "4414313551      5  POINT (-72.79677 43.46352)\n",
       "4130116616      6  POINT (-81.32435 46.04416)\n",
       "4936523155      5  POINT (-73.82481 40.61684)\n",
       "\n",
       "[162775 rows x 2 columns]"
      ]
     },
     "execution_count": 8,
     "metadata": {},
     "output_type": "execute_result"
    }
   ],
   "source": [
    "gbif_gdf = (\n",
    "    gpd.GeoDataFrame(\n",
    "        gbif_df, \n",
    "        geometry=gpd.points_from_xy(\n",
    "            gbif_df.decimalLongitude, \n",
    "            gbif_df.decimalLatitude), \n",
    "        crs=\"EPSG:4326\")\n",
    "    # Select the desired columns\n",
    "    [['month', 'geometry']]\n",
    ")\n",
    "gbif_gdf"
   ]
  },
  {
   "cell_type": "markdown",
   "id": "0d95a6ef-29c9-43d4-9912-2aa6f3151965",
   "metadata": {},
   "source": [
    "<link rel=\"stylesheet\" type=\"text/css\" href=\"./assets/styles.css\"><div class=\"callout callout-style-default callout-titled callout-task\"><div class=\"callout-header\"><div class=\"callout-icon-container\"><i class=\"callout-icon\"></i></div><div class=\"callout-title-container flex-fill\">Try It</div></div><div class=\"callout-body-container callout-body\"><p>Make sure to store the new version of your <code>DataFrame</code> for\n",
    "other notebooks!</p>\n",
    "<div id=\"70111aa5\" class=\"cell\" data-execution_count=\"15\">\n",
    "<div class=\"sourceCode\" id=\"cb1\"><pre\n",
    "class=\"sourceCode python cell-code\"><code class=\"sourceCode python\"><span id=\"cb1-1\"><a href=\"#cb1-1\" aria-hidden=\"true\" tabindex=\"-1\"></a><span class=\"op\">%</span>store ecoregions_gdf gbif_gdf</span></code></pre></div>\n",
    "</div></div></div>"
   ]
  },
  {
   "cell_type": "code",
   "execution_count": 9,
   "id": "4ca4c0f1",
   "metadata": {},
   "outputs": [
    {
     "name": "stdout",
     "output_type": "stream",
     "text": [
      "Stored 'ecoregion_gdf' (GeoDataFrame)\n",
      "Stored 'gbif_gdf' (GeoDataFrame)\n"
     ]
    }
   ],
   "source": [
    "%store ecoregion_gdf gbif_gdf"
   ]
  }
 ],
 "metadata": {
  "kernelspec": {
   "display_name": "base",
   "language": "python",
   "name": "python3"
  },
  "language_info": {
   "codemirror_mode": {
    "name": "ipython",
    "version": 3
   },
   "file_extension": ".py",
   "mimetype": "text/x-python",
   "name": "python",
   "nbconvert_exporter": "python",
   "pygments_lexer": "ipython3",
   "version": "3.11.6"
  }
 },
 "nbformat": 4,
 "nbformat_minor": 5
}
