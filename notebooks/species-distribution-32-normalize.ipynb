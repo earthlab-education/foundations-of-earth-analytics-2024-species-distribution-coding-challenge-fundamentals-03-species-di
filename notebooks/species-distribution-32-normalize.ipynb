{
  "cells": [
    {
      "cell_type": "markdown",
      "id": "4ee0065c-5c7e-4bc0-876e-0663e803d08b",
      "metadata": {},
      "source": [
        "# STEP 4: Count the number of observations in each ecosystem, during\n",
        "\n",
        "each month of 2023\n",
        "\n",
        "Much of the data in GBIF is **crowd-sourced**. As a result, we need not\n",
        "just the number of observations in each ecosystem each month – we need\n",
        "to **normalize** by some measure of **sampling effort**. After all, we\n",
        "wouldn’t expect the same number of observations in the Arctic as we\n",
        "would in a National Park, even if there were the same number of Veeries.\n",
        "In this case, we’re normalizing using the average number of observations\n",
        "for each ecosystem and each month. This should help control for the\n",
        "number of active observers in each location and time of year.\n",
        "\n",
        "### Set up your analysis\n",
        "\n",
        "First things first – let’s load your stored variables."
      ]
    },
    {
      "cell_type": "code",
      "execution_count": 1,
      "id": "5e95e651",
      "metadata": {},
      "outputs": [],
      "source": [
        "%store -r"
      ]
    },
    {
      "cell_type": "markdown",
      "id": "10497a80-169f-44b4-b0d8-40c1c155745b",
      "metadata": {},
      "source": [
        "### Identify the ecoregion for each observation\n",
        "\n",
        "You can combine the ecoregions and the observations **spatially** using\n",
        "a method called `.sjoin()`, which stands for spatial join.\n",
        "\n",
        "<link rel=\"stylesheet\" type=\"text/css\" href=\"./assets/styles.css\"><div class=\"callout callout-style-default callout-titled callout-read\"><div class=\"callout-header\"><div class=\"callout-icon-container\"><i class=\"callout-icon\"></i></div><div class=\"callout-title-container flex-fill\">Read More</div></div><div class=\"callout-body-container callout-body\"><p>Check out the <a\n",
        "href=\"https://geopandas.org/en/stable/docs/user_guide/mergingdata.html#spatial-joins\"><code>geopandas</code>\n",
        "documentation on spatial joins</a> to help you figure this one out. You\n",
        "can also ask your favorite LLM (Large-Language Model, like ChatGPT)</p></div></div>\n",
        "\n",
        "<link rel=\"stylesheet\" type=\"text/css\" href=\"./assets/styles.css\"><div class=\"callout callout-style-default callout-titled callout-task\"><div class=\"callout-header\"><div class=\"callout-icon-container\"><i class=\"callout-icon\"></i></div><div class=\"callout-title-container flex-fill\">Try It: Perform a spatial join</div></div><div class=\"callout-body-container callout-body\"><ol type=\"1\">\n",
        "<li>Identify the correct values for the <code>how=</code> and\n",
        "<code>predicate=</code> parameters of the spatial join.</li>\n",
        "<li>Select only the columns you will need for your plot.</li>\n",
        "<li>Run the code.</li>\n",
        "</ol></div></div>"
      ]
    },
    {
      "cell_type": "code",
      "execution_count": 4,
      "id": "6beddd17",
      "metadata": {
        "highlight": true
      },
      "outputs": [
        {
          "data": {
            "text/html": [
              "<div>\n",
              "<style scoped>\n",
              "    .dataframe tbody tr th:only-of-type {\n",
              "        vertical-align: middle;\n",
              "    }\n",
              "\n",
              "    .dataframe tbody tr th {\n",
              "        vertical-align: top;\n",
              "    }\n",
              "\n",
              "    .dataframe thead th {\n",
              "        text-align: right;\n",
              "    }\n",
              "</style>\n",
              "<table border=\"1\" class=\"dataframe\">\n",
              "  <thead>\n",
              "    <tr style=\"text-align: right;\">\n",
              "      <th></th>\n",
              "      <th>ecoregion</th>\n",
              "      <th>gbifID</th>\n",
              "      <th>month</th>\n",
              "    </tr>\n",
              "  </thead>\n",
              "  <tbody>\n",
              "    <tr>\n",
              "      <th>0</th>\n",
              "      <td>12</td>\n",
              "      <td>4743927038</td>\n",
              "      <td>5</td>\n",
              "    </tr>\n",
              "    <tr>\n",
              "      <th>1</th>\n",
              "      <td>12</td>\n",
              "      <td>4621947377</td>\n",
              "      <td>5</td>\n",
              "    </tr>\n",
              "    <tr>\n",
              "      <th>2</th>\n",
              "      <td>12</td>\n",
              "      <td>4761090115</td>\n",
              "      <td>6</td>\n",
              "    </tr>\n",
              "    <tr>\n",
              "      <th>3</th>\n",
              "      <td>12</td>\n",
              "      <td>4765238615</td>\n",
              "      <td>7</td>\n",
              "    </tr>\n",
              "    <tr>\n",
              "      <th>4</th>\n",
              "      <td>12</td>\n",
              "      <td>4630693711</td>\n",
              "      <td>6</td>\n",
              "    </tr>\n",
              "    <tr>\n",
              "      <th>...</th>\n",
              "      <td>...</td>\n",
              "      <td>...</td>\n",
              "      <td>...</td>\n",
              "    </tr>\n",
              "    <tr>\n",
              "      <th>159532</th>\n",
              "      <td>839</td>\n",
              "      <td>4633848077</td>\n",
              "      <td>10</td>\n",
              "    </tr>\n",
              "    <tr>\n",
              "      <th>159533</th>\n",
              "      <td>839</td>\n",
              "      <td>4749131402</td>\n",
              "      <td>9</td>\n",
              "    </tr>\n",
              "    <tr>\n",
              "      <th>159534</th>\n",
              "      <td>839</td>\n",
              "      <td>4763942306</td>\n",
              "      <td>9</td>\n",
              "    </tr>\n",
              "    <tr>\n",
              "      <th>159535</th>\n",
              "      <td>839</td>\n",
              "      <td>4746476478</td>\n",
              "      <td>9</td>\n",
              "    </tr>\n",
              "    <tr>\n",
              "      <th>159536</th>\n",
              "      <td>839</td>\n",
              "      <td>4719267065</td>\n",
              "      <td>9</td>\n",
              "    </tr>\n",
              "  </tbody>\n",
              "</table>\n",
              "<p>159537 rows × 3 columns</p>\n",
              "</div>"
            ],
            "text/plain": [
              "        ecoregion      gbifID  month\n",
              "0              12  4743927038      5\n",
              "1              12  4621947377      5\n",
              "2              12  4761090115      6\n",
              "3              12  4765238615      7\n",
              "4              12  4630693711      6\n",
              "...           ...         ...    ...\n",
              "159532        839  4633848077     10\n",
              "159533        839  4749131402      9\n",
              "159534        839  4763942306      9\n",
              "159535        839  4746476478      9\n",
              "159536        839  4719267065      9\n",
              "\n",
              "[159537 rows x 3 columns]"
            ]
          },
          "execution_count": 4,
          "metadata": {},
          "output_type": "execute_result"
        }
      ],
      "source": [
        "gbif_ecoregion_gdf = (\n",
        "    ecoregion_gdf\n",
        "    # Match the CRS of the GBIF data and the ecoregions\n",
        "    .to_crs(gbif_gdf.crs)\n",
        "    # Find ecoregion for each observation\n",
        "    .sjoin(\n",
        "        gbif_gdf,\n",
        "        how='inner', \n",
        "        predicate='contains')\n",
        "    # Select the required columns\n",
        "    [['gbifID' , 'month']]\n",
        "    .reset_index()\n",
        "    .rename(columns={'index':'ecoregion'})\n",
        "    \n",
        ")\n",
        "gbif_ecoregion_gdf"
      ]
    },
    {
      "cell_type": "markdown",
      "id": "6cf0387b-2dd6-400d-96ef-83e0e4898279",
      "metadata": {},
      "source": [
        "### Count the observations in each ecoregion each month\n",
        "\n",
        "<link rel=\"stylesheet\" type=\"text/css\" href=\"./assets/styles.css\"><div class=\"callout callout-style-default callout-titled callout-task\"><div class=\"callout-header\"><div class=\"callout-icon-container\"><i class=\"callout-icon\"></i></div><div class=\"callout-title-container flex-fill\">Try It: Group observations by ecoregion</div></div><div class=\"callout-body-container callout-body\"><ol type=\"1\">\n",
        "<li>Replace <code>columns_to_group_by</code> with a list of columns.\n",
        "Keep in mind that you will end up with one row for each group – you want\n",
        "to count the observations in each ecoregion by month.</li>\n",
        "<li>Select only month/ecosystem combinations that have more than one\n",
        "occurrence recorded, since a single occurrence could be an error.</li>\n",
        "<li>Use the <code>.groupby()</code> and <code>.mean()</code> methods to\n",
        "compute the mean occurrences by ecoregion and by month.</li>\n",
        "<li>Run the code – it will normalize the number of occurrences by month\n",
        "and ecoretion.</li>\n",
        "</ol></div></div>"
      ]
    },
    {
      "cell_type": "code",
      "execution_count": 17,
      "id": "32800690",
      "metadata": {
        "highlight": true
      },
      "outputs": [],
      "source": [
        "occurrence_df = (\n",
        "    gbif_ecoregion_gdf\n",
        "    # For each ecoregion, for each month...\n",
        "    .groupby(['ecoregion', 'month'])\n",
        "    # ...count the number of occurrences\n",
        "    .agg(occurrences=('ecoregion', 'count'))\n",
        ")\n",
        "\n",
        "# Get rid of rare observations (possible misidentification?)\n",
        "occurrence_df = occurrence_df[occurrence_df.occurrences>1]\n",
        "\n",
        "# Take the mean by ecoregion\n",
        "mean_occurrences_by_ecoregion = (\n",
        "     occurrence_df\n",
        "     .groupby(['ecoregion'])\n",
        "     .mean()\n",
        " )\n",
        " \n",
        "# Take the mean by month\n",
        "mean_occurrences_by_month = (\n",
        "     occurrence_df\n",
        "     .groupby(['ecoregion'])\n",
        "     .mean()\n",
        "    \n",
        " )"
      ]
    },
    {
      "cell_type": "markdown",
      "id": "0420b4ff-991b-4649-acd5-1d8f92bae4e1",
      "metadata": {},
      "source": [
        "### Normalize the observations\n",
        "\n",
        "<link rel=\"stylesheet\" type=\"text/css\" href=\"./assets/styles.css\"><div class=\"callout callout-style-default callout-titled callout-task\"><div class=\"callout-header\"><div class=\"callout-icon-container\"><i class=\"callout-icon\"></i></div><div class=\"callout-title-container flex-fill\">Try It: Normalize</div></div><div class=\"callout-body-container callout-body\"><ol type=\"1\">\n",
        "<li>Divide occurrences by the mean occurrences by month AND the mean\n",
        "occurrences by ecoregion</li>\n",
        "</ol></div></div>"
      ]
    },
    {
      "cell_type": "code",
      "execution_count": 7,
      "id": "6a85c18d",
      "metadata": {
        "highlight": true
      },
      "outputs": [],
      "source": [
        "# Normalize by space and time for sampling effort\n",
        "occurrence_df['norm_occurrences'] = (\n",
        "    occurrence_df\n",
        "    ...\n",
        ")\n",
        "occurrence_df"
      ]
    },
    {
      "cell_type": "markdown",
      "id": "b660f645-eb45-4674-a0d9-90028d40978a",
      "metadata": {},
      "source": [
        "<link rel=\"stylesheet\" type=\"text/css\" href=\"./assets/styles.css\"><div class=\"callout callout-style-default callout-titled callout-task\"><div class=\"callout-header\"><div class=\"callout-icon-container\"><i class=\"callout-icon\"></i></div><div class=\"callout-title-container flex-fill\">Try It</div></div><div class=\"callout-body-container callout-body\"><p>Make sure to store the new version of your <code>DataFrame</code> for\n",
        "other notebooks!</p>\n",
        "<div id=\"2e01613b\" class=\"cell\" data-execution_count=\"9\">\n",
        "<div class=\"sourceCode\" id=\"cb1\"><pre\n",
        "class=\"sourceCode python cell-code\"><code class=\"sourceCode python\"><span id=\"cb1-1\"><a href=\"#cb1-1\" aria-hidden=\"true\" tabindex=\"-1\"></a><span class=\"op\">%</span>store occurrence_df</span></code></pre></div>\n",
        "</div></div></div>"
      ]
    }
  ],
  "metadata": {
    "kernelspec": {
      "display_name": "base",
      "language": "python",
      "name": "python3"
    },
    "language_info": {
      "codemirror_mode": {
        "name": "ipython",
        "version": 3
      },
      "file_extension": ".py",
      "mimetype": "text/x-python",
      "name": "python",
      "nbconvert_exporter": "python",
      "pygments_lexer": "ipython3",
      "version": "3.11.6"
    }
  },
  "nbformat": 4,
  "nbformat_minor": 5
}
