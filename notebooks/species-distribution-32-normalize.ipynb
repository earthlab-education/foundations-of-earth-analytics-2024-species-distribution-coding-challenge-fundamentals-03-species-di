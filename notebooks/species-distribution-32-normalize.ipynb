{
  "cells": [
    {
      "cell_type": "markdown",
      "id": "4ee0065c-5c7e-4bc0-876e-0663e803d08b",
      "metadata": {},
      "source": [
        "# STEP 4: Count the number of observations in each ecosystem, during\n",
        "\n",
        "each month of 2023\n",
        "\n",
        "Much of the data in GBIF is **crowd-sourced**. As a result, we need not\n",
        "just the number of observations in each ecosystem each month – we need\n",
        "to **normalize** by some measure of **sampling effort**. After all, we\n",
        "wouldn’t expect the same number of observations in the Arctic as we\n",
        "would in a National Park, even if there were the same number of Veeries.\n",
        "In this case, we’re normalizing using the average number of observations\n",
        "for each ecosystem and each month. This should help control for the\n",
        "number of active observers in each location and time of year.\n",
        "\n",
        "### Set up your analysis\n",
        "\n",
        "First things first – let’s load your stored variables."
      ]
    },
    {
      "cell_type": "code",
      "execution_count": 2,
      "id": "5e95e651",
      "metadata": {},
      "outputs": [],
      "source": [
        "%store -r"
      ]
    },
    {
      "cell_type": "markdown",
      "id": "10497a80-169f-44b4-b0d8-40c1c155745b",
      "metadata": {},
      "source": [
        "### Identify the ecoregion for each observation\n",
        "\n",
        "You can combine the ecoregions and the observations **spatially** using\n",
        "a method called `.sjoin()`, which stands for spatial join.\n",
        "\n",
        "<link rel=\"stylesheet\" type=\"text/css\" href=\"./assets/styles.css\"><div class=\"callout callout-style-default callout-titled callout-read\"><div class=\"callout-header\"><div class=\"callout-icon-container\"><i class=\"callout-icon\"></i></div><div class=\"callout-title-container flex-fill\">Read More</div></div><div class=\"callout-body-container callout-body\"><p>Check out the <a\n",
        "href=\"https://geopandas.org/en/stable/docs/user_guide/mergingdata.html#spatial-joins\"><code>geopandas</code>\n",
        "documentation on spatial joins</a> to help you figure this one out. You\n",
        "can also ask your favorite LLM (Large-Language Model, like ChatGPT)</p></div></div>\n",
        "\n",
        "<link rel=\"stylesheet\" type=\"text/css\" href=\"./assets/styles.css\"><div class=\"callout callout-style-default callout-titled callout-task\"><div class=\"callout-header\"><div class=\"callout-icon-container\"><i class=\"callout-icon\"></i></div><div class=\"callout-title-container flex-fill\">Try It: Perform a spatial join</div></div><div class=\"callout-body-container callout-body\"><ol type=\"1\">\n",
        "<li>Identify the correct values for the <code>how=</code> and\n",
        "<code>predicate=</code> parameters of the spatial join.</li>\n",
        "<li>Select only the columns you will need for your plot.</li>\n",
        "<li>Run the code.</li>\n",
        "</ol></div></div>"
      ]
    },
    {
      "cell_type": "code",
      "execution_count": 25,
      "id": "6beddd17",
      "metadata": {
        "highlight": true
      },
      "outputs": [
        {
          "ename": "KeyError",
          "evalue": "\"['index_right'] not in index\"",
          "output_type": "error",
          "traceback": [
            "\u001b[0;31m---------------------------------------------------------------------------\u001b[0m",
            "\u001b[0;31mKeyError\u001b[0m                                  Traceback (most recent call last)",
            "Cell \u001b[0;32mIn[25], line 2\u001b[0m\n\u001b[1;32m      1\u001b[0m gbif_ecoregion_gdf \u001b[38;5;241m=\u001b[39m (\n\u001b[0;32m----> 2\u001b[0m     \u001b[43mecoregion_gdf\u001b[49m\n\u001b[1;32m      3\u001b[0m \u001b[43m    \u001b[49m\u001b[38;5;66;43;03m# Match the CRS of the GBIF data and the ecoregions\u001b[39;49;00m\n\u001b[1;32m      4\u001b[0m \u001b[43m    \u001b[49m\u001b[38;5;241;43m.\u001b[39;49m\u001b[43mto_crs\u001b[49m\u001b[43m(\u001b[49m\u001b[43mgbif_gdf\u001b[49m\u001b[38;5;241;43m.\u001b[39;49m\u001b[43mcrs\u001b[49m\u001b[43m)\u001b[49m\n\u001b[1;32m      5\u001b[0m \u001b[43m    \u001b[49m\u001b[38;5;66;43;03m# Find ecoregion for each observation\u001b[39;49;00m\n\u001b[1;32m      6\u001b[0m \u001b[43m    \u001b[49m\u001b[38;5;241;43m.\u001b[39;49m\u001b[43msjoin\u001b[49m\u001b[43m(\u001b[49m\n\u001b[1;32m      7\u001b[0m \u001b[43m        \u001b[49m\u001b[43mgbif_gdf\u001b[49m\u001b[43m,\u001b[49m\n\u001b[1;32m      8\u001b[0m \u001b[43m        \u001b[49m\u001b[43mhow\u001b[49m\u001b[38;5;241;43m=\u001b[39;49m\u001b[38;5;124;43m'\u001b[39;49m\u001b[38;5;124;43minner\u001b[39;49m\u001b[38;5;124;43m'\u001b[39;49m\u001b[43m,\u001b[49m\u001b[43m \u001b[49m\n\u001b[1;32m      9\u001b[0m \u001b[43m        \u001b[49m\u001b[43mpredicate\u001b[49m\u001b[38;5;241;43m=\u001b[39;49m\u001b[38;5;124;43m'\u001b[39;49m\u001b[38;5;124;43mcontains\u001b[39;49m\u001b[38;5;124;43m'\u001b[39;49m\u001b[43m)\u001b[49m\n\u001b[1;32m     10\u001b[0m \u001b[43m    \u001b[49m\u001b[38;5;66;43;03m# Select the required columns\u001b[39;49;00m\n\u001b[1;32m     11\u001b[0m \u001b[43m    \u001b[49m\u001b[43m[\u001b[49m\u001b[43m[\u001b[49m\u001b[38;5;124;43m'\u001b[39;49m\u001b[38;5;124;43mindex_right\u001b[39;49m\u001b[38;5;124;43m'\u001b[39;49m\u001b[43m,\u001b[49m\u001b[43m \u001b[49m\u001b[38;5;124;43m'\u001b[39;49m\u001b[38;5;124;43mmonth\u001b[39;49m\u001b[38;5;124;43m'\u001b[39;49m\u001b[43m]\u001b[49m\u001b[43m]\u001b[49m\n\u001b[1;32m     12\u001b[0m     \u001b[38;5;241m.\u001b[39mreset_index()\n\u001b[1;32m     13\u001b[0m     \u001b[38;5;241m.\u001b[39mrename(columns\u001b[38;5;241m=\u001b[39m{\u001b[38;5;124m'\u001b[39m\u001b[38;5;124mindex\u001b[39m\u001b[38;5;124m'\u001b[39m:\u001b[38;5;124m'\u001b[39m\u001b[38;5;124mecoregion\u001b[39m\u001b[38;5;124m'\u001b[39m})\n\u001b[1;32m     14\u001b[0m     \n\u001b[1;32m     15\u001b[0m )\n\u001b[1;32m     16\u001b[0m gbif_ecoregion_gdf\n",
            "File \u001b[0;32m/opt/conda/lib/python3.11/site-packages/geopandas/geodataframe.py:1750\u001b[0m, in \u001b[0;36mGeoDataFrame.__getitem__\u001b[0;34m(self, key)\u001b[0m\n\u001b[1;32m   1744\u001b[0m \u001b[38;5;28;01mdef\u001b[39;00m \u001b[38;5;21m__getitem__\u001b[39m(\u001b[38;5;28mself\u001b[39m, key):\n\u001b[1;32m   1745\u001b[0m \u001b[38;5;250m    \u001b[39m\u001b[38;5;124;03m\"\"\"\u001b[39;00m\n\u001b[1;32m   1746\u001b[0m \u001b[38;5;124;03m    If the result is a column containing only 'geometry', return a\u001b[39;00m\n\u001b[1;32m   1747\u001b[0m \u001b[38;5;124;03m    GeoSeries. If it's a DataFrame with any columns of GeometryDtype,\u001b[39;00m\n\u001b[1;32m   1748\u001b[0m \u001b[38;5;124;03m    return a GeoDataFrame.\u001b[39;00m\n\u001b[1;32m   1749\u001b[0m \u001b[38;5;124;03m    \"\"\"\u001b[39;00m\n\u001b[0;32m-> 1750\u001b[0m     result \u001b[38;5;241m=\u001b[39m \u001b[38;5;28;43msuper\u001b[39;49m\u001b[43m(\u001b[49m\u001b[43m)\u001b[49m\u001b[38;5;241;43m.\u001b[39;49m\u001b[38;5;21;43m__getitem__\u001b[39;49m\u001b[43m(\u001b[49m\u001b[43mkey\u001b[49m\u001b[43m)\u001b[49m\n\u001b[1;32m   1751\u001b[0m     \u001b[38;5;66;03m# Custom logic to avoid waiting for pandas GH51895\u001b[39;00m\n\u001b[1;32m   1752\u001b[0m     \u001b[38;5;66;03m# result is not geometry dtype for multi-indexes\u001b[39;00m\n\u001b[1;32m   1753\u001b[0m     \u001b[38;5;28;01mif\u001b[39;00m (\n\u001b[1;32m   1754\u001b[0m         pd\u001b[38;5;241m.\u001b[39mapi\u001b[38;5;241m.\u001b[39mtypes\u001b[38;5;241m.\u001b[39mis_scalar(key)\n\u001b[1;32m   1755\u001b[0m         \u001b[38;5;129;01mand\u001b[39;00m key \u001b[38;5;241m==\u001b[39m \u001b[38;5;124m\"\u001b[39m\u001b[38;5;124m\"\u001b[39m\n\u001b[0;32m   (...)\u001b[0m\n\u001b[1;32m   1758\u001b[0m         \u001b[38;5;129;01mand\u001b[39;00m \u001b[38;5;129;01mnot\u001b[39;00m is_geometry_type(result)\n\u001b[1;32m   1759\u001b[0m     ):\n",
            "File \u001b[0;32m/opt/conda/lib/python3.11/site-packages/pandas/core/frame.py:4108\u001b[0m, in \u001b[0;36mDataFrame.__getitem__\u001b[0;34m(self, key)\u001b[0m\n\u001b[1;32m   4106\u001b[0m     \u001b[38;5;28;01mif\u001b[39;00m is_iterator(key):\n\u001b[1;32m   4107\u001b[0m         key \u001b[38;5;241m=\u001b[39m \u001b[38;5;28mlist\u001b[39m(key)\n\u001b[0;32m-> 4108\u001b[0m     indexer \u001b[38;5;241m=\u001b[39m \u001b[38;5;28;43mself\u001b[39;49m\u001b[38;5;241;43m.\u001b[39;49m\u001b[43mcolumns\u001b[49m\u001b[38;5;241;43m.\u001b[39;49m\u001b[43m_get_indexer_strict\u001b[49m\u001b[43m(\u001b[49m\u001b[43mkey\u001b[49m\u001b[43m,\u001b[49m\u001b[43m \u001b[49m\u001b[38;5;124;43m\"\u001b[39;49m\u001b[38;5;124;43mcolumns\u001b[39;49m\u001b[38;5;124;43m\"\u001b[39;49m\u001b[43m)\u001b[49m[\u001b[38;5;241m1\u001b[39m]\n\u001b[1;32m   4110\u001b[0m \u001b[38;5;66;03m# take() does not accept boolean indexers\u001b[39;00m\n\u001b[1;32m   4111\u001b[0m \u001b[38;5;28;01mif\u001b[39;00m \u001b[38;5;28mgetattr\u001b[39m(indexer, \u001b[38;5;124m\"\u001b[39m\u001b[38;5;124mdtype\u001b[39m\u001b[38;5;124m\"\u001b[39m, \u001b[38;5;28;01mNone\u001b[39;00m) \u001b[38;5;241m==\u001b[39m \u001b[38;5;28mbool\u001b[39m:\n",
            "File \u001b[0;32m/opt/conda/lib/python3.11/site-packages/pandas/core/indexes/base.py:6200\u001b[0m, in \u001b[0;36mIndex._get_indexer_strict\u001b[0;34m(self, key, axis_name)\u001b[0m\n\u001b[1;32m   6197\u001b[0m \u001b[38;5;28;01melse\u001b[39;00m:\n\u001b[1;32m   6198\u001b[0m     keyarr, indexer, new_indexer \u001b[38;5;241m=\u001b[39m \u001b[38;5;28mself\u001b[39m\u001b[38;5;241m.\u001b[39m_reindex_non_unique(keyarr)\n\u001b[0;32m-> 6200\u001b[0m \u001b[38;5;28;43mself\u001b[39;49m\u001b[38;5;241;43m.\u001b[39;49m\u001b[43m_raise_if_missing\u001b[49m\u001b[43m(\u001b[49m\u001b[43mkeyarr\u001b[49m\u001b[43m,\u001b[49m\u001b[43m \u001b[49m\u001b[43mindexer\u001b[49m\u001b[43m,\u001b[49m\u001b[43m \u001b[49m\u001b[43maxis_name\u001b[49m\u001b[43m)\u001b[49m\n\u001b[1;32m   6202\u001b[0m keyarr \u001b[38;5;241m=\u001b[39m \u001b[38;5;28mself\u001b[39m\u001b[38;5;241m.\u001b[39mtake(indexer)\n\u001b[1;32m   6203\u001b[0m \u001b[38;5;28;01mif\u001b[39;00m \u001b[38;5;28misinstance\u001b[39m(key, Index):\n\u001b[1;32m   6204\u001b[0m     \u001b[38;5;66;03m# GH 42790 - Preserve name from an Index\u001b[39;00m\n",
            "File \u001b[0;32m/opt/conda/lib/python3.11/site-packages/pandas/core/indexes/base.py:6252\u001b[0m, in \u001b[0;36mIndex._raise_if_missing\u001b[0;34m(self, key, indexer, axis_name)\u001b[0m\n\u001b[1;32m   6249\u001b[0m     \u001b[38;5;28;01mraise\u001b[39;00m \u001b[38;5;167;01mKeyError\u001b[39;00m(\u001b[38;5;124mf\u001b[39m\u001b[38;5;124m\"\u001b[39m\u001b[38;5;124mNone of [\u001b[39m\u001b[38;5;132;01m{\u001b[39;00mkey\u001b[38;5;132;01m}\u001b[39;00m\u001b[38;5;124m] are in the [\u001b[39m\u001b[38;5;132;01m{\u001b[39;00maxis_name\u001b[38;5;132;01m}\u001b[39;00m\u001b[38;5;124m]\u001b[39m\u001b[38;5;124m\"\u001b[39m)\n\u001b[1;32m   6251\u001b[0m not_found \u001b[38;5;241m=\u001b[39m \u001b[38;5;28mlist\u001b[39m(ensure_index(key)[missing_mask\u001b[38;5;241m.\u001b[39mnonzero()[\u001b[38;5;241m0\u001b[39m]]\u001b[38;5;241m.\u001b[39munique())\n\u001b[0;32m-> 6252\u001b[0m \u001b[38;5;28;01mraise\u001b[39;00m \u001b[38;5;167;01mKeyError\u001b[39;00m(\u001b[38;5;124mf\u001b[39m\u001b[38;5;124m\"\u001b[39m\u001b[38;5;132;01m{\u001b[39;00mnot_found\u001b[38;5;132;01m}\u001b[39;00m\u001b[38;5;124m not in index\u001b[39m\u001b[38;5;124m\"\u001b[39m)\n",
            "\u001b[0;31mKeyError\u001b[0m: \"['index_right'] not in index\""
          ]
        }
      ],
      "source": [
        "gbif_ecoregion_gdf = (\n",
        "    ecoregion_gdf\n",
        "    # Match the CRS of the GBIF data and the ecoregions\n",
        "    .to_crs(gbif_gdf.crs)\n",
        "    # Find ecoregion for each observation\n",
        "    .sjoin(\n",
        "        gbif_gdf,\n",
        "        how='inner', \n",
        "        predicate='contains')\n",
        "    # Select the required columns\n",
        "    [['index_right', 'month']]\n",
        "    .reset_index()\n",
        "    .rename(columns={'index':'ecoregion'})\n",
        "    \n",
        ")\n",
        "gbif_ecoregion_gdf"
      ]
    },
    {
      "cell_type": "markdown",
      "id": "6cf0387b-2dd6-400d-96ef-83e0e4898279",
      "metadata": {},
      "source": [
        "### Count the observations in each ecoregion each month\n",
        "\n",
        "<link rel=\"stylesheet\" type=\"text/css\" href=\"./assets/styles.css\"><div class=\"callout callout-style-default callout-titled callout-task\"><div class=\"callout-header\"><div class=\"callout-icon-container\"><i class=\"callout-icon\"></i></div><div class=\"callout-title-container flex-fill\">Try It: Group observations by ecoregion</div></div><div class=\"callout-body-container callout-body\"><ol type=\"1\">\n",
        "<li>Replace <code>columns_to_group_by</code> with a list of columns.\n",
        "Keep in mind that you will end up with one row for each group – you want\n",
        "to count the observations in each ecoregion by month.</li>\n",
        "<li>Select only month/ecosystem combinations that have more than one\n",
        "occurrence recorded, since a single occurrence could be an error.</li>\n",
        "<li>Use the <code>.groupby()</code> and <code>.mean()</code> methods to\n",
        "compute the mean occurrences by ecoregion and by month.</li>\n",
        "<li>Run the code – it will normalize the number of occurrences by month\n",
        "and ecoretion.</li>\n",
        "</ol></div></div>"
      ]
    },
    {
      "cell_type": "code",
      "execution_count": 17,
      "id": "32800690",
      "metadata": {
        "highlight": true
      },
      "outputs": [],
      "source": [
        "occurrence_df = (\n",
        "    gbif_ecoregion_gdf\n",
        "    # For each ecoregion, for each month...\n",
        "    .groupby(['ecoregion', 'month'])\n",
        "    # ...count the number of occurrences\n",
        "    .agg(occurrences=('ecoregion', 'count'))\n",
        ")\n",
        "\n",
        "# Get rid of rare observations (possible misidentification?)\n",
        "occurrence_df = occurrence_df[occurrence_df.occurrences>1]\n",
        "\n",
        "# Take the mean by ecoregion\n",
        "mean_occurrences_by_ecoregion = (\n",
        "     occurrence_df\n",
        "     .groupby(['ecoregion'])\n",
        "     .mean()\n",
        " )\n",
        " \n",
        "# Take the mean by month\n",
        "mean_occurrences_by_month = (\n",
        "     occurrence_df\n",
        "     .groupby(['ecoregion'])\n",
        "     .mean()\n",
        "    \n",
        " )"
      ]
    },
    {
      "cell_type": "markdown",
      "id": "0420b4ff-991b-4649-acd5-1d8f92bae4e1",
      "metadata": {},
      "source": [
        "### Normalize the observations\n",
        "\n",
        "<link rel=\"stylesheet\" type=\"text/css\" href=\"./assets/styles.css\"><div class=\"callout callout-style-default callout-titled callout-task\"><div class=\"callout-header\"><div class=\"callout-icon-container\"><i class=\"callout-icon\"></i></div><div class=\"callout-title-container flex-fill\">Try It: Normalize</div></div><div class=\"callout-body-container callout-body\"><ol type=\"1\">\n",
        "<li>Divide occurrences by the mean occurrences by month AND the mean\n",
        "occurrences by ecoregion</li>\n",
        "</ol></div></div>"
      ]
    },
    {
      "cell_type": "code",
      "execution_count": 7,
      "id": "6a85c18d",
      "metadata": {
        "highlight": true
      },
      "outputs": [],
      "source": [
        "# Normalize by space and time for sampling effort\n",
        "occurrence_df['norm_occurrences'] = (\n",
        "    occurrence_df\n",
        "    ...\n",
        ")\n",
        "occurrence_df"
      ]
    },
    {
      "cell_type": "markdown",
      "id": "b660f645-eb45-4674-a0d9-90028d40978a",
      "metadata": {},
      "source": [
        "<link rel=\"stylesheet\" type=\"text/css\" href=\"./assets/styles.css\"><div class=\"callout callout-style-default callout-titled callout-task\"><div class=\"callout-header\"><div class=\"callout-icon-container\"><i class=\"callout-icon\"></i></div><div class=\"callout-title-container flex-fill\">Try It</div></div><div class=\"callout-body-container callout-body\"><p>Make sure to store the new version of your <code>DataFrame</code> for\n",
        "other notebooks!</p>\n",
        "<div id=\"2e01613b\" class=\"cell\" data-execution_count=\"9\">\n",
        "<div class=\"sourceCode\" id=\"cb1\"><pre\n",
        "class=\"sourceCode python cell-code\"><code class=\"sourceCode python\"><span id=\"cb1-1\"><a href=\"#cb1-1\" aria-hidden=\"true\" tabindex=\"-1\"></a><span class=\"op\">%</span>store occurrence_df</span></code></pre></div>\n",
        "</div></div></div>"
      ]
    }
  ],
  "metadata": {
    "kernelspec": {
      "display_name": "base",
      "language": "python",
      "name": "python3"
    },
    "language_info": {
      "codemirror_mode": {
        "name": "ipython",
        "version": 3
      },
      "file_extension": ".py",
      "mimetype": "text/x-python",
      "name": "python",
      "nbconvert_exporter": "python",
      "pygments_lexer": "ipython3",
      "version": "3.11.6"
    }
  },
  "nbformat": 4,
  "nbformat_minor": 5
}
