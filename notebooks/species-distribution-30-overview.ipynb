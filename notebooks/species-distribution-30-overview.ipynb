{
  "cells": [
    {
      "cell_type": "markdown",
      "id": "b7e7dc48-3ce6-452d-bd75-09fca2f00c2b",
      "metadata": {},
      "source": [
        "# \n",
        "\n",
        "<link rel=\"stylesheet\" type=\"text/css\" href=\"./assets/styles.css\"><div class=\"callout callout-style-default callout-titled callout-response\"><div class=\"callout-header\"><div class=\"callout-icon-container\"><i class=\"callout-icon\"></i></div><div class=\"callout-title-container flex-fill\">What can we learn from migration patterns?</div></div><div class=\"callout-body-container callout-body\"><p>In the cell below, reflect on what you know about migration. You\n",
        "could consider:</p>\n",
        "<ol type=\"1\">\n",
        "<li>What are some reasons that animals migrate?</li>\n",
        "<li>How might climate change affect animal migrations?</li>\n",
        "<li>Do you notice any animal migrations in your area?</li>\n",
        "</ol></div></div>"
      ]
    },
    {
      "cell_type": "markdown",
      "id": "09ea9f1d-2434-41ec-9d7b-65eb3153d6d6",
      "metadata": {},
      "source": [
        "_What are some reasons that animals migrate?_\n",
        "Animals are looking for more favorable conditions which aids in their specie's survival. Whether that be for better temperatures, avoiding stormy seasons, or sustainable food sources. \n",
        "\n",
        "_How might climate change affect animal migrations?_\n",
        "Migration depends on climate. As noted above, migration helps animals imporve their environmental conditions throoughout the year. As those environmnental conditions change, the migration patterns will be disrupted and changed. \n",
        "\n",
        "_Do you notice any animal migrations in your area?_\n",
        "I don't pay much attention to animal migration patterns. I spend most of my time in the same ecosystems (high altitutde alpine). Here, I do notice changes in animal behaivor and physiology such as color changes (ptarmigan) or hibernations (pika). Climate change affects these factors as well. However, this is not migration. "
      ]
    }
  ],
  "metadata": {
    "kernelspec": {
      "display_name": "Python 3",
      "language": "python",
      "name": "python3"
    }
  },
  "nbformat": 4,
  "nbformat_minor": 5
}
