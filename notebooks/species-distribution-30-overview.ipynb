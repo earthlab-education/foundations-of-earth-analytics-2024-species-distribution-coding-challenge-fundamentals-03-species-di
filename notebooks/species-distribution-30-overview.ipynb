{
  "cells": [
    {
      "cell_type": "markdown",
      "id": "b7e7dc48-3ce6-452d-bd75-09fca2f00c2b",
      "metadata": {},
      "source": [
        "# \n",
        "\n",
        "<link rel=\"stylesheet\" type=\"text/css\" href=\"./assets/styles.css\"><div class=\"callout callout-style-default callout-titled callout-response\"><div class=\"callout-header\"><div class=\"callout-icon-container\"><i class=\"callout-icon\"></i></div><div class=\"callout-title-container flex-fill\">What can we learn from migration patterns?</div></div><div class=\"callout-body-container callout-body\"><p>In the cell below, reflect on what you know about migration. You\n",
        "could consider:</p>\n",
        "<ol type=\"1\">\n",
        "<li>What are some reasons that animals migrate?</li>\n",
        "<li>How might climate change affect animal migrations?</li>\n",
        "<li>Do you notice any animal migrations in your area?</li>\n",
        "</ol></div></div>"
      ]
    },
    {
      "cell_type": "markdown",
      "id": "09ea9f1d-2434-41ec-9d7b-65eb3153d6d6",
      "metadata": {},
      "source": [
        "Animals can migrate for a number of reasons including due to seasonal changes in weather, to mate, to roost, and to forage. Climate change affects animal migrations, because some areas that were not hospitable to certain species may become hospitable and others may no longer be able to support animals if their thermal tolerances are exceeded or if their prey items can no longer persist in those areas. Additionally, diseases and parasites may be introduced into regions due to these changes in migrations or as animals migrate to new areas they may encounter new parasites they would not have been exposed to previously, potentially leading to devastating outbreaks. In my area I notice various bird migrations, and I have also been fortunate enough to witness whales during their migration off of coastal Washington. "
      ]
    }
  ],
  "metadata": {
    "kernelspec": {
      "display_name": "Python 3",
      "language": "python",
      "name": "python3"
    }
  },
  "nbformat": 4,
  "nbformat_minor": 5
}
