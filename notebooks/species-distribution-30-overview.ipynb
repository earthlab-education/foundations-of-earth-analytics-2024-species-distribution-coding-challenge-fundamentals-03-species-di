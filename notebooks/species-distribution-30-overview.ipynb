{
  "cells": [
    {
      "cell_type": "markdown",
      "id": "b7e7dc48-3ce6-452d-bd75-09fca2f00c2b",
      "metadata": {},
      "source": [
        "# \n",
        "\n",
        "<link rel=\"stylesheet\" type=\"text/css\" href=\"./assets/styles.css\"><div class=\"callout callout-style-default callout-titled callout-response\"><div class=\"callout-header\"><div class=\"callout-icon-container\"><i class=\"callout-icon\"></i></div><div class=\"callout-title-container flex-fill\">What can we learn from migration patterns?</div></div><div class=\"callout-body-container callout-body\"><p>In the cell below, reflect on what you know about migration. You\n",
        "could consider:</p>\n",
        "<ol type=\"1\">\n",
        "<li>What are some reasons that animals migrate?</li>\n",
        "<li>How might climate change affect animal migrations?</li>\n",
        "<li>Do you notice any animal migrations in your area?</li>\n",
        "</ol></div></div>"
      ]
    },
    {
      "cell_type": "markdown",
      "id": "09ea9f1d-2434-41ec-9d7b-65eb3153d6d6",
      "metadata": {},
      "source": [
        "YOUR ANSWER HERE"
      ]
    },
    {
      "cell_type": "markdown",
      "id": "0d315ef7",
      "metadata": {},
      "source": [
        "1. Animals migrate following food and mating opportunities, but also\n",
        "due to several environmental factors such as escaping natural disasters \n",
        "or in search of new resources.\n",
        "2. Climate change can impact phenology - the seasonal changes in life\n",
        "history stages of plants and animals - by disrupting temperature and\n",
        "precipitation cycles which affect the timing of seasonal events such as \n",
        "pollen production and dormancy in plants. This in turn affects animals\n",
        "which rely on plants as food sources.\n",
        "3. In the southeastern US, there are numerous migratory birds who winter \n",
        "in Central & South America.\n",
        "\n",
        "Reference used: [Phenology and Climate Change] \n",
        "(https://www.nps.gov/articles/000/ips-phenology-and-climate-change.htm)"
      ]
    }
  ],
  "metadata": {
    "kernelspec": {
      "display_name": "base",
      "language": "python",
      "name": "python3"
    },
    "language_info": {
      "name": "python",
      "version": "3.11.6"
    }
  },
  "nbformat": 4,
  "nbformat_minor": 5
}
