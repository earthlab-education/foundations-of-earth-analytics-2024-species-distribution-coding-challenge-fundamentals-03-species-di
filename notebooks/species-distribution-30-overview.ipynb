{
  "cells": [
    {
      "cell_type": "markdown",
      "id": "b7e7dc48-3ce6-452d-bd75-09fca2f00c2b",
      "metadata": {},
      "source": [
        "# \n",
        "\n",
        "<link rel=\"stylesheet\" type=\"text/css\" href=\"./assets/styles.css\"><div class=\"callout callout-style-default callout-titled callout-response\"><div class=\"callout-header\"><div class=\"callout-icon-container\"><i class=\"callout-icon\"></i></div><div class=\"callout-title-container flex-fill\">What can we learn from migration patterns?</div></div><div class=\"callout-body-container callout-body\"><p>In the cell below, reflect on what you know about migration. You\n",
        "could consider:</p>\n",
        "<ol type=\"1\">\n",
        "<li>What are some reasons that animals migrate?</li>\n",
        "<li>How might climate change affect animal migrations?</li>\n",
        "<li>Do you notice any animal migrations in your area?</li>\n",
        "</ol></div></div>"
      ]
    },
    {
      "cell_type": "markdown",
      "id": "09ea9f1d-2434-41ec-9d7b-65eb3153d6d6",
      "metadata": {},
      "source": [
        "Wildlife migration patterns can potentially tell us information about important behaviors and preferences of different species as well as about resource availability. Animals migrate according to seasonal patterns for purposes of habitat suitability across climatic gradients, mating/nesting/spawning, and to reach essential food and water sources. These amazing population movements are cyclical and often well-documented by researchers. \n",
        "Climate change is very likely to impact migration patterns across species due to changes in weather patterns and key climate metrics like temperature and water balance. These climatic changes will alter resource availability and may increase competition across species or populations for more scare food sources in places with damaging climate impacts. On the flip side, new areas may open for colonization or as migration destinations if wildlife can find lands and/or waters that are within their climate envelope, or within the range of conditions in which they can successfully continue reproducing and sustaining stable populations. "
      ]
    }
  ],
  "metadata": {
    "kernelspec": {
      "display_name": "Python 3",
      "language": "python",
      "name": "python3"
    }
  },
  "nbformat": 4,
  "nbformat_minor": 5
}
